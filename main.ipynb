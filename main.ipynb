{
 "cells": [
  {
   "cell_type": "code",
   "execution_count": 31,
   "id": "abdc1300",
   "metadata": {},
   "outputs": [
    {
     "name": "stdout",
     "output_type": "stream",
     "text": [
      "9.794168063203255\n",
      "\n"
     ]
    },
    {
     "ename": "ValueError",
     "evalue": "operands could not be broadcast together with shapes (4177,) (8354,) ",
     "output_type": "error",
     "traceback": [
      "\u001b[0;31m---------------------------------------------------------------------------\u001b[0m",
      "\u001b[0;31mValueError\u001b[0m                                Traceback (most recent call last)",
      "Cell \u001b[0;32mIn[31], line 78\u001b[0m\n\u001b[1;32m     74\u001b[0m     pred_y\u001b[38;5;241m.\u001b[39mappend(pred_inst\u001b[38;5;241m.\u001b[39mpred(x))\n\u001b[1;32m     76\u001b[0m loss_call \u001b[38;5;241m=\u001b[39m MSE(pred_y,df[\u001b[38;5;124m'\u001b[39m\u001b[38;5;124mAge\u001b[39m\u001b[38;5;124m'\u001b[39m])\n\u001b[0;32m---> 78\u001b[0m loss \u001b[38;5;241m=\u001b[39m loss_call\u001b[38;5;241m.\u001b[39mloss()\n\u001b[1;32m     80\u001b[0m \u001b[38;5;28mprint\u001b[39m(\u001b[38;5;124mf\u001b[39m\u001b[38;5;124m\"\u001b[39m\u001b[38;5;132;01m{\u001b[39;00mloss\u001b[38;5;132;01m}\u001b[39;00m\u001b[38;5;130;01m\\n\u001b[39;00m\u001b[38;5;124m\"\u001b[39m)\n\u001b[1;32m     82\u001b[0m gd_class \u001b[38;5;241m=\u001b[39m gd(W,B,df[\u001b[38;5;124m'\u001b[39m\u001b[38;5;124mHeight\u001b[39m\u001b[38;5;124m'\u001b[39m]\u001b[38;5;241m.\u001b[39mtolist(),pred_y,df[\u001b[38;5;124m'\u001b[39m\u001b[38;5;124mAge\u001b[39m\u001b[38;5;124m'\u001b[39m])\n",
      "Cell \u001b[0;32mIn[31], line 38\u001b[0m, in \u001b[0;36mMSE.loss\u001b[0;34m(self)\u001b[0m\n\u001b[1;32m     37\u001b[0m \u001b[38;5;28;01mdef\u001b[39;00m \u001b[38;5;21mloss\u001b[39m(\u001b[38;5;28mself\u001b[39m):\n\u001b[0;32m---> 38\u001b[0m     \u001b[38;5;28;01mreturn\u001b[39;00m np\u001b[38;5;241m.\u001b[39msum((\u001b[38;5;28mself\u001b[39m\u001b[38;5;241m.\u001b[39mtrue_y \u001b[38;5;241m-\u001b[39m \u001b[38;5;28mself\u001b[39m\u001b[38;5;241m.\u001b[39mpred_y)) \u001b[38;5;241m/\u001b[39m \u001b[38;5;28mlen\u001b[39m(\u001b[38;5;28mself\u001b[39m\u001b[38;5;241m.\u001b[39mpred_y)\n",
      "\u001b[0;31mValueError\u001b[0m: operands could not be broadcast together with shapes (4177,) (8354,) "
     ]
    }
   ],
   "source": [
    "import pandas as pd\n",
    "import matplotlib.pyplot as plt\n",
    "import numpy as np\n",
    "\n",
    "\n",
    "\n",
    "\n",
    "PATH = \"./abalone.data.csv\"\n",
    "\n",
    "###################################################################################################################################################\n",
    "class data_loader():\n",
    "\n",
    "    def __init__(self,path) -> None:\n",
    "        self.path = path\n",
    "\n",
    "    def call(self):\n",
    "\n",
    "        return pd.read_csv(self.path)\n",
    "\n",
    "###################################################################################################################################################\n",
    "class predict():\n",
    "    \n",
    "    def __init__(self,w,b) -> None:\n",
    "        self.w = w\n",
    "        self.b = b\n",
    "    \n",
    "    def pred(self,x):\n",
    "        return (self.w * x) + self.b\n",
    "\n",
    "###################################################################################################################################################\n",
    "class MSE():\n",
    "    \n",
    "    def __init__(self,pred_y,true_y) -> None:\n",
    "        self.pred_y = np.array(pred_y)\n",
    "        self.true_y = np.array(true_y)\n",
    "    \n",
    "    def loss(self):\n",
    "        return np.sum((self.true_y - self.pred_y)) / len(self.pred_y)\n",
    "\n",
    "###################################################################################################################################################\n",
    "class gd():\n",
    "    \n",
    "    def __init__(self,w,b,x,pred_y,true_y) -> None:\n",
    "        self.w = w\n",
    "        self.b = b\n",
    "        self.x = x\n",
    "        self.pred_y = np.array(pred_y)\n",
    "        self.true_y = np.array(true_y)\n",
    "    \n",
    "    def gradient_b(self):\n",
    "        \n",
    "        return (np.sum((self.pred_y - self.true_y)) * 2) / len(self.pred_y)\n",
    "    \n",
    "    def gradient_w(self):\n",
    "        \n",
    "        return (np.sum((self.pred_y - self.true_y) * self.x) * 2) / len(self.pred_y)\n",
    "\n",
    "###################################################################################################################################################\n",
    "\n",
    "df = data_loader(PATH).call()\n",
    "# Lets take only one col for best fit line with random W, B\n",
    "\n",
    "W = 1\n",
    "B = 0\n",
    "lr = 0.001\n",
    "\n",
    "\n",
    "pred_y = []\n",
    "\n",
    "for _ in range(10):\n",
    "    pred_inst = predict(W,B)\n",
    "\n",
    "    for x in df['Height']:\n",
    "        pred_y.append(pred_inst.pred(x))\n",
    "\n",
    "    loss_call = MSE(pred_y,df['Age'])\n",
    "    \n",
    "    loss = loss_call.loss()\n",
    "    \n",
    "    print(f\"{loss}\\n\")\n",
    "    \n",
    "    gd_class = gd(W,B,df['Height'].tolist(),pred_y,df['Age'])\n",
    "    \n",
    "    W -= W - (lr * gd_class.gradient_w())\n",
    "    \n",
    "    B -= B - (lr * gd_class.gradient_b())"
   ]
  },
  {
   "cell_type": "code",
   "execution_count": 27,
   "id": "fe601a42",
   "metadata": {},
   "outputs": [
    {
     "data": {
      "image/png": "[encoded data removed]",
      "text/plain": [
       "<Figure size 640x480 with 1 Axes>"
      ]
     },
     "metadata": {},
     "output_type": "display_data"
    },
    {
     "data": {
      "text/plain": [
       "9.794168063203255"
      ]
     },
     "execution_count": 27,
     "metadata": {},
     "output_type": "execute_result"
    }
   ],
   "source": [
    "plt.scatter(df['Height'],pred_y)\n",
    "plt.show()\n",
    "loss"
   ]
  },
  {
   "cell_type": "code",
   "execution_count": null,
   "id": "c0fdf648",
   "metadata": {},
   "outputs": [],
   "source": []
  }
 ],
 "metadata": {
  "kernelspec": {
   "display_name": "Python 3 (ipykernel)",
   "language": "python",
   "name": "python3"
  },
  "language_info": {
   "codemirror_mode": {
    "name": "ipython",
    "version": 3
   },
   "file_extension": ".py",
   "mimetype": "text/x-python",
   "name": "python",
   "nbconvert_exporter": "python",
   "pygments_lexer": "ipython3",
   "version": "3.11.4"
  }
 },
 "nbformat": 4,
 "nbformat_minor": 5
}
